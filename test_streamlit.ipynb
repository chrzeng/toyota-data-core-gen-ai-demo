{
 "cells": [
  {
   "cell_type": "code",
   "execution_count": 1,
   "id": "444fb60b",
   "metadata": {},
   "outputs": [],
   "source": [
    "#!pip install matplotlib"
   ]
  },
  {
   "cell_type": "code",
   "execution_count": 2,
   "id": "6da7bdbf-f7df-42f6-a45e-06fc03581469",
   "metadata": {},
   "outputs": [],
   "source": [
    "import vertexai\n",
    "from vertexai.preview.language_models import TextGenerationModel, ChatModel, CodeGenerationModel\n",
    "import pandas as pd\n",
    "from google.cloud import bigquery\n",
    "import db_dtypes\n",
    "import base64\n",
    "from pathlib import Path\n",
    "import matplotlib.pyplot as plt\n",
    "from langchain.vectorstores import Chroma\n",
    "import uuid  \n",
    "import os\n",
    "import time\n",
    "from retry import retry\n",
    "import pandas as pd\n",
    "import numpy as np\n",
    "from ast import literal_eval\n",
    "from langchain.prompts.example_selector import SemanticSimilarityExampleSelector\n",
    "from langchain.prompts import FewShotPromptTemplate, PromptTemplate\n"
   ]
  },
  {
   "cell_type": "code",
   "execution_count": 3,
   "id": "9f4fae16-e177-40b5-b4db-f23621bbc146",
   "metadata": {},
   "outputs": [],
   "source": [
    "def main_fun(ques):\n",
    "\n",
    "    b = ques\n",
    "\n",
    "    @retry(tries=2)\n",
    "    def predict_large_language_model_sample( project_id: str, model_name: str, temperature: float, max_decode_steps: int, top_p: float, top_k: int, content: str, location: str = \"us-central1\", tuned_model_name: str = \"\",) :\n",
    "\n",
    "        \"\"\"Predict using a Large Language Model.\"\"\"\n",
    "\n",
    "        vertexai.init(project=project_id, location=location)\n",
    "\n",
    "        model = TextGenerationModel.from_pretrained(model_name)\n",
    "\n",
    "        if tuned_model_name:\n",
    "\n",
    "          model = model.get_tuned_model(tuned_model_name)\n",
    "\n",
    "        response = model.predict(content, temperature=temperature, max_output_tokens=max_decode_steps, top_k=top_k, top_p=top_p,)\n",
    "\n",
    "        #print(f\" {response.text}\")\n",
    "\n",
    "        output = response.text\n",
    "       \n",
    "\n",
    "        output = output.replace('sql','')\n",
    "        \n",
    "\n",
    "        output = output.replace('```','')\n",
    "        \n",
    "\n",
    "        return output\n",
    "\n",
    "        \n",
    "\n",
    "    data = predict_large_language_model_sample(\"us-gcp-ame-con-c2aaa-npd-1\", \"text-bison@001\", 0, 962, 0.95, 40, f'''\n",
    "    \n",
    "    your_vision: \" You are a chatbot for toyota vehicle hold inquary\"\n",
    "    your_mission: \" your mission is to provide executable queries from the question {b} \"\n",
    "        \n",
    "    return only the executable sql query for this question, {b} in bigquery? \n",
    "    \n",
    "    CREATE TABLE ds.vehicle (\n",
    "        vin STRING,\n",
    "        modelYear INTEGER,\n",
    "        brand STRING,\n",
    "        series STRING,\n",
    "        modelNumber STRING,\n",
    "        modelPhaseCode STRING,\n",
    "        region STRING,\n",
    "        dealerName STRING,\n",
    "        dealerCode STRING,\n",
    "        LifeCyclePhase STRING,\n",
    "        napCbuIndicator STRING,\n",
    "        fleetIndicator STRING,\n",
    "        vehicleHoldIndicator STRING,\n",
    "        qcHoldIndicator STRING,\n",
    "        financialHoldIndicator STRING,\n",
    "        damageHoldIndicator STRING,\n",
    "        otherHoldIndicator STRING,\n",
    "        qcNumber STRING,\n",
    "        modelDescription STRING,\n",
    "        factoryAccessories STRING,\n",
    "        interiorTrimColorDescription STRING,\n",
    "        interiorColorFabricCode STRING,\n",
    "        interiorTrimDescription STRING,\n",
    "        interiorColorCode STRING,\n",
    "        interiorColorDescription STRING,\n",
    "        exteriorColorName STRING,\n",
    "        exteriorColorCode STRING,\n",
    "        productionLockDate DATE,\n",
    "        dealerInvoiceDate DATE,\n",
    "        buildDate DATE,\n",
    "        plantShortDescription STRING,\n",
    "        plantLongDescription STRING,\n",
    "        damageDescription STRING,\n",
    "        \n",
    "    ) \n",
    "    \n",
    "    Always convert vin, brand, series, modelNumber, region, dealerName to upper case.\n",
    "    \n",
    "    Convert vehicleHoldIndicator, qcHoldIndicator, financialHoldIndicator, otherHoldIndicator to camel.\n",
    "     \n",
    "    To show the trend of vehicle HoldIndicator, always calculate count(vehicleHoldIndicator) and return the query directly.\n",
    "\n",
    "    To calculate deviations, always perform absolute difference between first column name from the question and second column name from the question and always apply STDDEV for the predicted absolute difference and return the query directly.\n",
    "    \n",
    "    Always give a simple alias name to a column if any operation has been performed on that column.\n",
    "    \n",
    "    Configuration details includes FE,CD,CT.\n",
    "    \n",
    "    HoldIndicator includes brand, series, region.\n",
    "    \n",
    "    Always consider model as model number and don't include model year.\n",
    "    \n",
    "    Consider LifeCyclePhase as Life Cycle Phase. \n",
    "    \n",
    "    Consider fleetIndicator as fleet Indicator. \n",
    "    \n",
    "    Consider vehicleHoldIndicator as vehicle hold indicator or vehicle hold. \n",
    "    \n",
    "    Consider financialHoldIndicator as financial hold indicator or financial hold.\n",
    "    \n",
    "    Consider qcHoldIndicator as quality campaign hold indicator or qc hold indicator.\n",
    "    \n",
    "    Consider qc as quality campaign. \n",
    "    \n",
    "    Consider damageHoldIndicator as damage hold indicator or damage hold.\n",
    "    \n",
    "    Consider otherHoldIndicator as other hold indicator or other hold. \n",
    "    \n",
    "    Consider all the business months and don't do any partition.\n",
    "    \n",
    "    Remember that before you answer a question, you must check to see if it compiles with your mission above.\n",
    "\n",
    "    Question : Are there any new series added in the 202305 Business Month \n",
    "    \n",
    "    Answer : SELECT series_name FROM tmna2.tmna2_table WHERE business_month = 202305 AND NOT EXISTS ( SELECT series_name FROM tmna2.tmna2_table WHERE business_month < 202305 ) \n",
    "    \n",
    "    Question : Are there any series discontinued in the 202301 Business Month \n",
    "    \n",
    "    Answer : SELECT series_name FROM tmna2.tmna2_table WHERE business_month < 202301 AND NOT EXISTS ( SELECT series_name FROM tmna2.tmna2_table WHERE business_month >= 202301 )\n",
    "    \n",
    "    Always do AVG(overall_acceptance),AVG(ppr1_acceptance),AVG(ppr2_acceptance),AVG(ppr3_acceptance),AVG(target_acceptance)\n",
    "\n",
    "    Lets think step by step and return only the sql query.\n",
    "          \n",
    "    ''', \"us-central1\")\n",
    "\n",
    "    #dict_sql = str(data.to_dict())\n",
    "\n",
    "    #print(data)\n",
    "    \n",
    "    return data\n"
   ]
  },
  {
   "cell_type": "code",
   "execution_count": 4,
   "id": "c988d1a2-3df9-4acd-be16-f5bdf2fa83a3",
   "metadata": {},
   "outputs": [
    {
     "name": "stdout",
     "output_type": "stream",
     "text": [
      "how many vins are associated with a quality campaign?  and show count\n"
     ]
    },
    {
     "name": "stdout",
     "output_type": "stream",
     "text": [
      "SELECT count(DISTINCT vin) FROM ds.vehicle WHERE qcHoldIndicator = 'Y'\n"
     ]
    }
   ],
   "source": [
    "question=\"How many VINs are associated with a quality campaign? \"\n",
    "question=question.lower()\n",
    "if \"business\" in question:\n",
    "    question=question+\" and show the business month\"\n",
    "if \"region\" in question:\n",
    "    question=question+\" and show the region\"\n",
    "if \"series\" in question:\n",
    "    question=question+\" and show the series at first\"\n",
    "if \"brand\" in question:\n",
    "    question=question+\" and show the brand\"\n",
    "if \"how many\" in question:\n",
    "    question=question+\" and show count\"\n",
    "print(question)\n",
    "result = main_fun(question)\n",
    "print(result)\n"
   ]
  },
  {
   "cell_type": "code",
   "execution_count": 5,
   "id": "13fc43e9-f8a6-4812-88a6-214db289ea80",
   "metadata": {},
   "outputs": [],
   "source": [
    "def run_sql_query(sql):\n",
    "    # Create a BigQuery client\n",
    "\n",
    "    client = bigquery.Client()\n",
    "\n",
    "        # Get the list of tables in the dataset\n",
    "\n",
    "    tables = client.list_tables('ds')\n",
    "\n",
    "    results = client.query(sql).to_dataframe()\n",
    "\n",
    "    return results"
   ]
  },
  {
   "cell_type": "code",
   "execution_count": 6,
   "id": "25a43d8c-08cd-4d1d-8ef4-a6e09f0d5f6e",
   "metadata": {},
   "outputs": [],
   "source": [
    "result1=run_sql_query(result)\n"
   ]
  },
  {
   "cell_type": "code",
   "execution_count": 7,
   "id": "3ea7febe-8d62-437a-898a-84cd354e3f0f",
   "metadata": {},
   "outputs": [
    {
     "name": "stdout",
     "output_type": "stream",
     "text": [
      "   f0_\n",
      "0  431\n"
     ]
    }
   ],
   "source": [
    "print(result1)"
   ]
  },
  {
   "cell_type": "code",
   "execution_count": 8,
   "id": "8b54538b",
   "metadata": {},
   "outputs": [],
   "source": [
    "parameters = {\n",
    "\n",
    "    \"temperature\": 0,\n",
    "\n",
    "    \"max_output_tokens\": 1024,\n",
    "\n",
    "\n",
    "}"
   ]
  },
  {
   "cell_type": "code",
   "execution_count": 9,
   "id": "f6fc459c-28cf-4535-840f-cc76df62e594",
   "metadata": {},
   "outputs": [],
   "source": [
    "@retry(tries=2)\n",
    "def table_to_text(question,ans):\n",
    "    model=TextGenerationModel.from_pretrained(model_name='text-bison@001')\n",
    "    instruction = \"\"\" Given a table and a question. \n",
    "    \n",
    "    convert the ans table to a human readable text sentence according to the question.\n",
    "    \n",
    "    \"\"\"\n",
    "    result=model.predict(f'''{instruction},\n",
    "                    question:{question},\n",
    "                     ans:{ans} \n",
    "                     ''',**parameters)\n",
    "    data=result.text\n",
    "    return data"
   ]
  },
  {
   "cell_type": "code",
   "execution_count": 10,
   "id": "2ac95abc-8676-453d-8477-1053a149d76a",
   "metadata": {},
   "outputs": [
    {
     "name": "stdout",
     "output_type": "stream",
     "text": [
      "There are 431 vins associated with a quality campaign.\n"
     ]
    }
   ],
   "source": [
    "sentence1=table_to_text(question,result1)\n",
    "print(sentence1)"
   ]
  },
  {
   "cell_type": "code",
   "execution_count": 11,
   "id": "7519dd92-b918-43c4-9222-d497772de6e1",
   "metadata": {},
   "outputs": [],
   "source": [
    "result1.to_csv('data.csv')\n",
    "result1.to_csv('ans.csv')"
   ]
  },
  {
   "cell_type": "code",
   "execution_count": 13,
   "id": "71c6eda4",
   "metadata": {},
   "outputs": [
    {
     "name": "stdout",
     "output_type": "stream",
     "text": [
      "Collecting streamlit_chat\n",
      "  Obtaining dependency information for streamlit_chat from https://files.pythonhosted.org/packages/86/f8/26d8429dea8b240f62193fdf4bd36240e2e18d01be50e8f8c0d65491f4b8/streamlit_chat-0.1.1-py3-none-any.whl.metadata\n",
      "  Downloading streamlit_chat-0.1.1-py3-none-any.whl.metadata (4.2 kB)\n",
      "Requirement already satisfied: streamlit>=0.63 in /opt/conda/envs/tmna-data-core/lib/python3.11/site-packages (from streamlit_chat) (1.24.1)\n",
      "Requirement already satisfied: altair<6,>=4.0 in /opt/conda/envs/tmna-data-core/lib/python3.11/site-packages (from streamlit>=0.63->streamlit_chat) (5.0.1)\n",
      "Requirement already satisfied: blinker<2,>=1.0.0 in /opt/conda/envs/tmna-data-core/lib/python3.11/site-packages (from streamlit>=0.63->streamlit_chat) (1.6.2)\n",
      "Requirement already satisfied: cachetools<6,>=4.0 in /opt/conda/envs/tmna-data-core/lib/python3.11/site-packages (from streamlit>=0.63->streamlit_chat) (5.3.1)\n",
      "Requirement already satisfied: click<9,>=7.0 in /opt/conda/envs/tmna-data-core/lib/python3.11/site-packages (from streamlit>=0.63->streamlit_chat) (8.1.6)\n",
      "Requirement already satisfied: importlib-metadata<7,>=1.4 in /opt/conda/envs/tmna-data-core/lib/python3.11/site-packages (from streamlit>=0.63->streamlit_chat) (6.8.0)\n",
      "Requirement already satisfied: numpy<2,>=1 in /opt/conda/envs/tmna-data-core/lib/python3.11/site-packages (from streamlit>=0.63->streamlit_chat) (1.25.2)\n",
      "Requirement already satisfied: packaging<24,>=14.1 in /opt/conda/envs/tmna-data-core/lib/python3.11/site-packages (from streamlit>=0.63->streamlit_chat) (23.1)\n",
      "Requirement already satisfied: pandas<3,>=0.25 in /opt/conda/envs/tmna-data-core/lib/python3.11/site-packages (from streamlit>=0.63->streamlit_chat) (2.0.3)\n",
      "Requirement already satisfied: pillow<10,>=6.2.0 in /opt/conda/envs/tmna-data-core/lib/python3.11/site-packages (from streamlit>=0.63->streamlit_chat) (9.5.0)\n",
      "Requirement already satisfied: protobuf<5,>=3.20 in /opt/conda/envs/tmna-data-core/lib/python3.11/site-packages (from streamlit>=0.63->streamlit_chat) (4.23.3)\n",
      "Requirement already satisfied: pyarrow>=4.0 in /opt/conda/envs/tmna-data-core/lib/python3.11/site-packages (from streamlit>=0.63->streamlit_chat) (12.0.1)\n",
      "Requirement already satisfied: pympler<2,>=0.9 in /opt/conda/envs/tmna-data-core/lib/python3.11/site-packages (from streamlit>=0.63->streamlit_chat) (1.0.1)\n",
      "Requirement already satisfied: python-dateutil<3,>=2 in /opt/conda/envs/tmna-data-core/lib/python3.11/site-packages (from streamlit>=0.63->streamlit_chat) (2.8.2)\n",
      "Requirement already satisfied: requests<3,>=2.4 in /opt/conda/envs/tmna-data-core/lib/python3.11/site-packages (from streamlit>=0.63->streamlit_chat) (2.31.0)\n",
      "Requirement already satisfied: rich<14,>=10.11.0 in /opt/conda/envs/tmna-data-core/lib/python3.11/site-packages (from streamlit>=0.63->streamlit_chat) (13.5.1)\n",
      "Requirement already satisfied: tenacity<9,>=8.0.0 in /opt/conda/envs/tmna-data-core/lib/python3.11/site-packages (from streamlit>=0.63->streamlit_chat) (8.2.3)\n",
      "Requirement already satisfied: toml<2 in /opt/conda/envs/tmna-data-core/lib/python3.11/site-packages (from streamlit>=0.63->streamlit_chat) (0.10.2)\n",
      "Requirement already satisfied: typing-extensions<5,>=4.0.1 in /opt/conda/envs/tmna-data-core/lib/python3.11/site-packages (from streamlit>=0.63->streamlit_chat) (4.7.1)\n",
      "Requirement already satisfied: tzlocal<5,>=1.1 in /opt/conda/envs/tmna-data-core/lib/python3.11/site-packages (from streamlit>=0.63->streamlit_chat) (4.3)\n",
      "Requirement already satisfied: validators<1,>=0.2 in /opt/conda/envs/tmna-data-core/lib/python3.11/site-packages (from streamlit>=0.63->streamlit_chat) (0.21.2)\n",
      "Requirement already satisfied: gitpython!=3.1.19,<4,>=3 in /opt/conda/envs/tmna-data-core/lib/python3.11/site-packages (from streamlit>=0.63->streamlit_chat) (3.1.32)\n",
      "Requirement already satisfied: pydeck<1,>=0.1.dev5 in /opt/conda/envs/tmna-data-core/lib/python3.11/site-packages (from streamlit>=0.63->streamlit_chat) (0.8.0b4)\n",
      "Requirement already satisfied: tornado<7,>=6.0.3 in /opt/conda/envs/tmna-data-core/lib/python3.11/site-packages (from streamlit>=0.63->streamlit_chat) (6.3.2)\n",
      "Requirement already satisfied: watchdog in /opt/conda/envs/tmna-data-core/lib/python3.11/site-packages (from streamlit>=0.63->streamlit_chat) (3.0.0)\n",
      "Requirement already satisfied: jinja2 in /opt/conda/envs/tmna-data-core/lib/python3.11/site-packages (from altair<6,>=4.0->streamlit>=0.63->streamlit_chat) (3.1.2)\n",
      "Requirement already satisfied: jsonschema>=3.0 in /opt/conda/envs/tmna-data-core/lib/python3.11/site-packages (from altair<6,>=4.0->streamlit>=0.63->streamlit_chat) (4.19.0)\n",
      "Requirement already satisfied: toolz in /opt/conda/envs/tmna-data-core/lib/python3.11/site-packages (from altair<6,>=4.0->streamlit>=0.63->streamlit_chat) (0.12.0)\n",
      "Requirement already satisfied: gitdb<5,>=4.0.1 in /opt/conda/envs/tmna-data-core/lib/python3.11/site-packages (from gitpython!=3.1.19,<4,>=3->streamlit>=0.63->streamlit_chat) (4.0.10)\n",
      "Requirement already satisfied: zipp>=0.5 in /opt/conda/envs/tmna-data-core/lib/python3.11/site-packages (from importlib-metadata<7,>=1.4->streamlit>=0.63->streamlit_chat) (3.16.2)\n",
      "Requirement already satisfied: pytz>=2020.1 in /opt/conda/envs/tmna-data-core/lib/python3.11/site-packages (from pandas<3,>=0.25->streamlit>=0.63->streamlit_chat) (2023.3)\n",
      "Requirement already satisfied: tzdata>=2022.1 in /opt/conda/envs/tmna-data-core/lib/python3.11/site-packages (from pandas<3,>=0.25->streamlit>=0.63->streamlit_chat) (2023.3)\n",
      "Requirement already satisfied: six>=1.5 in /opt/conda/envs/tmna-data-core/lib/python3.11/site-packages (from python-dateutil<3,>=2->streamlit>=0.63->streamlit_chat) (1.16.0)\n",
      "Requirement already satisfied: charset-normalizer<4,>=2 in /opt/conda/envs/tmna-data-core/lib/python3.11/site-packages (from requests<3,>=2.4->streamlit>=0.63->streamlit_chat) (3.2.0)\n",
      "Requirement already satisfied: idna<4,>=2.5 in /opt/conda/envs/tmna-data-core/lib/python3.11/site-packages (from requests<3,>=2.4->streamlit>=0.63->streamlit_chat) (3.4)\n",
      "Requirement already satisfied: urllib3<3,>=1.21.1 in /opt/conda/envs/tmna-data-core/lib/python3.11/site-packages (from requests<3,>=2.4->streamlit>=0.63->streamlit_chat) (1.26.15)\n",
      "Requirement already satisfied: certifi>=2017.4.17 in /opt/conda/envs/tmna-data-core/lib/python3.11/site-packages (from requests<3,>=2.4->streamlit>=0.63->streamlit_chat) (2023.7.22)\n",
      "Requirement already satisfied: markdown-it-py>=2.2.0 in /opt/conda/envs/tmna-data-core/lib/python3.11/site-packages (from rich<14,>=10.11.0->streamlit>=0.63->streamlit_chat) (3.0.0)\n",
      "Requirement already satisfied: pygments<3.0.0,>=2.13.0 in /opt/conda/envs/tmna-data-core/lib/python3.11/site-packages (from rich<14,>=10.11.0->streamlit>=0.63->streamlit_chat) (2.16.1)\n",
      "Requirement already satisfied: pytz-deprecation-shim in /opt/conda/envs/tmna-data-core/lib/python3.11/site-packages (from tzlocal<5,>=1.1->streamlit>=0.63->streamlit_chat) (0.1.0.post0)\n",
      "Requirement already satisfied: smmap<6,>=3.0.1 in /opt/conda/envs/tmna-data-core/lib/python3.11/site-packages (from gitdb<5,>=4.0.1->gitpython!=3.1.19,<4,>=3->streamlit>=0.63->streamlit_chat) (3.0.5)\n",
      "Requirement already satisfied: MarkupSafe>=2.0 in /opt/conda/envs/tmna-data-core/lib/python3.11/site-packages (from jinja2->altair<6,>=4.0->streamlit>=0.63->streamlit_chat) (2.1.3)\n",
      "Requirement already satisfied: attrs>=22.2.0 in /opt/conda/envs/tmna-data-core/lib/python3.11/site-packages (from jsonschema>=3.0->altair<6,>=4.0->streamlit>=0.63->streamlit_chat) (23.1.0)\n",
      "Requirement already satisfied: jsonschema-specifications>=2023.03.6 in /opt/conda/envs/tmna-data-core/lib/python3.11/site-packages (from jsonschema>=3.0->altair<6,>=4.0->streamlit>=0.63->streamlit_chat) (2023.7.1)\n",
      "Requirement already satisfied: referencing>=0.28.4 in /opt/conda/envs/tmna-data-core/lib/python3.11/site-packages (from jsonschema>=3.0->altair<6,>=4.0->streamlit>=0.63->streamlit_chat) (0.30.2)\n",
      "Requirement already satisfied: rpds-py>=0.7.1 in /opt/conda/envs/tmna-data-core/lib/python3.11/site-packages (from jsonschema>=3.0->altair<6,>=4.0->streamlit>=0.63->streamlit_chat) (0.9.2)\n",
      "Requirement already satisfied: mdurl~=0.1 in /opt/conda/envs/tmna-data-core/lib/python3.11/site-packages (from markdown-it-py>=2.2.0->rich<14,>=10.11.0->streamlit>=0.63->streamlit_chat) (0.1.0)\n",
      "Downloading streamlit_chat-0.1.1-py3-none-any.whl (1.2 MB)\n",
      "\u001b[2K   \u001b[90m━━━━━━━━━━━━━━━━━━━━━━━━━━━━━━━━━━━━━━━━\u001b[0m \u001b[32m1.2/1.2 MB\u001b[0m \u001b[31m1.1 MB/s\u001b[0m eta \u001b[36m0:00:00\u001b[0m00:01\u001b[0m00:01\u001b[0m\n",
      "\u001b[?25hInstalling collected packages: streamlit_chat\n",
      "Successfully installed streamlit_chat-0.1.1\n"
     ]
    }
   ],
   "source": [
    "!pip install streamlit_chat"
   ]
  },
  {
   "cell_type": "code",
   "execution_count": 1,
   "id": "d715487b",
   "metadata": {},
   "outputs": [],
   "source": [
    "import streamlit as st\n",
    "import vertexai\n",
    "from streamlit_chat import message\n",
    "\n",
    "#from english2results import get_results\n",
    "from timeit import default_timer as timer\n",
    "\n",
    "vertexai.init(project=\"us-gcp-con-c2aaa-npd-1\", location = \"us-central1\")\n"
   ]
  },
  {
   "cell_type": "code",
   "execution_count": null,
   "id": "c12116d5",
   "metadata": {},
   "outputs": [],
   "source": [
    "# Hardcoded UserID\n",
    "USER_ID = \"demo\"\n",
    "\n",
    "st.set_page_config(layout=\"wide\")\n",
    "st.markdown(\"\"\"\n",
    "    <style>\n",
    "        @import url('https://fonts.googleapis.com/css2?family=Roboto&display=swap');\n",
    "    </style>\n",
    "    <div style='text-align: center; font-size: 2.5rem; font-weight: 600; font-family: \"Roboto\"; color: #018BFF; line-height:1; '>Talent Finder Bot</div>\n",
    "    <div style='text-align: center; font-size: 1.5rem; font-weight: 300; font-family: \"Roboto\"; color: rgb(179 185 182); line-height:0; '>\n",
    "        Powered by <svg width=\"80\" height=\"60\" xmlns=\"http://www.w3.org/2000/svg\" id=\"Layer_1\" data-name=\"Layer 1\" viewBox=\"0 0 200 75\"><path d=\"M39.23,19c-10.58,0-17.68,6.16-17.68,18.11v8.52A8,8,0,0,1,25,44.81a7.89,7.89,0,0,1,3.46.8V37.07c0-7.75,4.28-11.73,10.8-11.73S50,29.32,50,37.07V55.69h6.89V37.07C56.91,25.05,49.81,19,39.23,19Z\"/><path d=\"M60.66,37.8c0-10.87,8-18.84,19.27-18.84s19.13,8,19.13,18.84v2.53H67.9c1,6.38,5.8,9.93,12,9.93,4.64,0,7.9-1.45,10-4.56h7.6c-2.75,6.66-9.27,10.94-17.6,10.94C68.63,56.64,60.66,48.67,60.66,37.8Zm31.15-3.62c-1.38-5.73-6.08-8.84-11.88-8.84S69.5,28.53,68.12,34.18Z\"/><path d=\"M102.74,37.8c0-10.86,8-18.83,19.27-18.83s19.27,8,19.27,18.83-8,18.84-19.27,18.84S102.74,48.67,102.74,37.8Zm31.59,0c0-7.24-4.93-12.46-12.32-12.46S109.7,30.56,109.7,37.8,114.62,50.26,122,50.26,134.33,45.05,134.33,37.8Z\"/><path d=\"M180.64,62.82h.8c4.42,0,6.08-2,6.08-7V20.16h6.89v35.2c0,8.84-3.48,13.4-12.32,13.4h-1.45Z\"/><path d=\"M177.2,59.14h-6.89V50.65H152.86A8.64,8.64,0,0,1,145,46.2a7.72,7.72,0,0,1,.94-8.16L161.6,17.49a8.65,8.65,0,0,1,15.6,5.13V44.54h5.17v6.11H177.2ZM151.67,41.8a1.76,1.76,0,0,0-.32,1,1.72,1.72,0,0,0,1.73,1.73h17.23V22.45a1.7,1.7,0,0,0-1.19-1.68,2.36,2.36,0,0,0-.63-.09,1.63,1.63,0,0,0-1.36.73L151.67,41.8Z\"/><path d=\"M191,5.53a5.9,5.9,0,1,0,5.89,5.9A5.9,5.9,0,0,0,191,5.53Z\" fill=\"#018bff\"/><path d=\"M24.7,47a5.84,5.84,0,0,0-3.54,1.2l-6.48-4.43a6,6,0,0,0,.22-1.59A5.89,5.89,0,1,0,9,48a5.81,5.81,0,0,0,3.54-1.2L19,51.26a5.89,5.89,0,0,0,0,3.19l-6.48,4.43A5.81,5.81,0,0,0,9,57.68a5.9,5.9,0,1,0,5.89,5.89A6,6,0,0,0,14.68,62l6.48-4.43a5.84,5.84,0,0,0,3.54,1.2A5.9,5.9,0,0,0,24.7,47Z\" fill=\"#018bff\"/></svg> | \n",
    "        <svg height=\"60\" width=\"120\" xmlns=\"http://www.w3.org/2000/svg\" xmlns:xlink=\"http://www.w3.org/1999/xlink\"><path d=\"M32.377 26.446h-12.52v3.715h8.88c-.44 5.2-4.773 7.432-8.865 7.432a9.76 9.76 0 0 1-9.802-9.891c0-5.624 4.354-9.954 9.814-9.954 4.212 0 6.694 2.685 6.694 2.685l2.6-2.694s-3.34-3.717-9.43-3.717c-7.755 0-13.754 6.545-13.754 13.614 0 6.927 5.643 13.682 13.95 13.682 7.307 0 12.656-5.006 12.656-12.408 0-1.562-.227-2.464-.227-2.464z\" fill=\"#4885ed\"/><use xlink:href=\"#A\" fill=\"#db3236\"/><use xlink:href=\"#A\" x=\"19.181\" fill=\"#f4c20d\"/><path d=\"M80.628 23.765c-4.716 0-8.422 4.13-8.422 8.766 0 5.28 4.297 8.782 8.34 8.782 2.5 0 3.83-.993 4.8-2.132v1.73c0 3.027-1.838 4.84-4.612 4.84-2.68 0-4.024-1.993-4.5-3.123l-3.372 1.4c1.196 2.53 3.604 5.167 7.9 5.167 4.7 0 8.262-2.953 8.262-9.147V24.292H85.36v1.486c-1.13-1.22-2.678-2.013-4.73-2.013zm.34 3.44c2.312 0 4.686 1.974 4.686 5.345 0 3.427-2.37 5.315-4.737 5.315-2.514 0-4.853-2.04-4.853-5.283 0-3.368 2.43-5.378 4.904-5.378z\" fill=\"#4885ed\"/><path d=\"M105.4 23.744c-4.448 0-8.183 3.54-8.183 8.76 0 5.526 4.163 8.803 8.6 8.803 3.712 0 6-2.03 7.35-3.85l-3.033-2.018c-.787 1.22-2.103 2.415-4.298 2.415-2.466 0-3.6-1.35-4.303-2.66l11.763-4.88-.6-1.43c-1.136-2.8-3.787-5.14-7.295-5.14zm.153 3.374c1.603 0 2.756.852 3.246 1.874l-7.856 3.283c-.34-2.542 2.07-5.157 4.6-5.157z\" fill=\"#db3236\"/><path d=\"M91.6 40.787h3.864V14.93H91.6z\" fill=\"#3cba54\"/><defs><path id=\"A\" d=\"M42.634 23.755c-5.138 0-8.82 4.017-8.82 8.7 0 4.754 3.57 8.845 8.88 8.845 4.806 0 8.743-3.673 8.743-8.743 0-5.8-4.58-8.803-8.803-8.803zm.05 3.446c2.526 0 4.92 2.043 4.92 5.334 0 3.22-2.384 5.322-4.932 5.322-2.8 0-5-2.242-5-5.348 0-3.04 2.18-5.308 5.02-5.308z\"/></defs></svg> GenAI\n",
    "    </div>\n",
    "\"\"\", unsafe_allow_html=True)\n"
   ]
  },
  {
   "cell_type": "code",
   "execution_count": null,
   "id": "1bb5a1bd",
   "metadata": {},
   "outputs": [],
   "source": [
    "def generate_context(prompt, context_data='generated'):\n",
    "    context = []\n",
    "    # If any history exists\n",
    "    if st.session_state['generated']:\n",
    "        # Add the last three exchanges\n",
    "        size = len(st.session_state['generated'])\n",
    "        for i in range(max(size-3, 0), size):\n",
    "            context.append(st.session_state['user_input'][i])\n",
    "            if len(st.session_state[context_data]) > i:\n",
    "                context.append(st.session_state[context_data][i])\n",
    "    # Add the latest user prompt\n",
    "    context.append(str(prompt))\n",
    "    return context"
   ]
  },
  {
   "cell_type": "code",
   "execution_count": null,
   "id": "3834772a",
   "metadata": {},
   "outputs": [],
   "source": [
    "# Generated natural language\n",
    "if 'generated' not in st.session_state:\n",
    "    st.session_state['generated'] = []\n",
    "# Neo4j database results\n",
    "if 'database_results' not in st.session_state:\n",
    "    st.session_state['database_results'] = []\n",
    "# User input\n",
    "if 'user_input' not in st.session_state:\n",
    "    st.session_state['user_input'] = []\n",
    "# Generated Cypher statements\n",
    "#if 'cypher' not in st.session_state:\n",
    "#    st.session_state['cypher'] = []"
   ]
  },
  {
   "cell_type": "code",
   "execution_count": null,
   "id": "3f9d8eda",
   "metadata": {},
   "outputs": [],
   "source": [
    "def get_text():\n",
    "    input_text = st.text_input(\n",
    "        \"Ask away\", \"\", key=\"input\")\n",
    "    return input_text"
   ]
  },
  {
   "cell_type": "code",
   "execution_count": null,
   "id": "6f56265b",
   "metadata": {},
   "outputs": [],
   "source": [
    "# Define columns\n",
    "col1, col2 = st.columns([2, 1])\n",
    "\n",
    "with col2:\n",
    "    another_placeholder = st.empty()\n",
    "with col1:\n",
    "    placeholder = st.empty()\n",
    "user_input = get_text()"
   ]
  },
  {
   "cell_type": "code",
   "execution_count": null,
   "id": "63fe7c48",
   "metadata": {},
   "outputs": [],
   "source": [
    "if user_input:\n",
    "    start = timer()\n",
    "    #results = get_results(generate_context(user_input, 'database_results'))\n",
    "    results = table_to_text(question,result1)\n",
    "    try:\n",
    "        #cypher_step = results['intermediate_steps']\n",
    "        #print('Total Time : {}'.format(timer() - start))\n",
    "        #if len(cypher_step) > 0 and 'query' in cypher_step[0]:\n",
    "        #    st.session_state.cypher.append(cypher_step[0]['query'])\n",
    "        #else :\n",
    "        #    st.session_state.cypher.append('')\n",
    "        \n",
    "        #if len(cypher_step) > 1 and 'context' in cypher_step[1] and len(cypher_step[1]['context']) > 0:\n",
    "        #    st.session_state.database_results.append(cypher_step[1]['context'][0])\n",
    "        #else:\n",
    "        \n",
    "        st.session_state.database_results.append('')\n",
    "        \n",
    "        st.session_state.user_input.append(user_input)\n",
    "        st.session_state.generated.append(results['result'])\n",
    "        \n",
    "    except Exception as ex:\n",
    "        print(ex)\n",
    "        st.session_state.user_input.append(user_input)\n",
    "        st.session_state.generated.append(\"Could not generate result due to an error or LLM Quota exceeded\")\n",
    "        #st.session_state.cypher.append(\"\")\n",
    "        st.session_state.database_results.append('{}')"
   ]
  },
  {
   "cell_type": "code",
   "execution_count": null,
   "id": "9442a856",
   "metadata": {},
   "outputs": [],
   "source": [
    "# Message placeholder\n",
    "with placeholder.container():\n",
    "    if st.session_state['generated']:\n",
    "        size = len(st.session_state['generated'])\n",
    "        # Display only the last three exchanges\n",
    "        for i in range(max(size-3, 0), size):\n",
    "            message(st.session_state['user_input'][i],\n",
    "                    is_user=True, key=str(i) + '_user')\n",
    "            message(st.session_state[\"generated\"][i], key=str(i))"
   ]
  },
  {
   "cell_type": "code",
   "execution_count": null,
   "id": "e78bb06c",
   "metadata": {},
   "outputs": [],
   "source": [
    "# Generated Cypher statements\n",
    "with another_placeholder.container():\n",
    "    if st.session_state['database_results']:\n",
    "        st.text_area(\"Latest generated Query statement\",\n",
    "                     st.session_state['database_results'][-1], height=240)"
   ]
  },
  {
   "cell_type": "code",
   "execution_count": null,
   "id": "66582a75",
   "metadata": {},
   "outputs": [],
   "source": []
  },
  {
   "cell_type": "code",
   "execution_count": null,
   "id": "d91451bf",
   "metadata": {},
   "outputs": [],
   "source": []
  },
  {
   "cell_type": "code",
   "execution_count": null,
   "id": "60d6b090-518e-402e-90ae-4a8b2f173071",
   "metadata": {},
   "outputs": [],
   "source": [
    "@retry(tries=2)\n",
    "def plot_code(ans):\n",
    "    model=TextGenerationModel.from_pretrained(model_name='text-bison@001')\n",
    "    instruction = \"\"\" Given a table load it into a python dataframe named 'df'.\n",
    "                      Generate bar graph for string values and line graph for integer or float values.\n",
    "                      Generate a python code using matplotlib to plot the df in a graph with appropriate x and y labels and title and resize the graph according to the values.\n",
    "    \n",
    "                     Do not try to read data.\\n \"\"\"\n",
    "    result=model.predict(f'''{instruction}\n",
    "                     ans:{ans} ''',**parameters)\n",
    "    return result\n",
    "    \n",
    "    "
   ]
  },
  {
   "cell_type": "code",
   "execution_count": null,
   "id": "8ee03c86-0ab4-44de-9698-eb8cdbe4ca20",
   "metadata": {},
   "outputs": [
    {
     "data": {
      "image/png": "[encoded data removed]",
      "text/plain": [
       "<Figure size 1000x500 with 1 Axes>"
      ]
     },
     "metadata": {},
     "output_type": "display_data"
    },
    {
     "data": {
      "text/plain": [
       "<Figure size 640x480 with 0 Axes>"
      ]
     },
     "metadata": {},
     "output_type": "display_data"
    }
   ],
   "source": [
    "#timestamp = time.strftime(\"%Y%m%d%H%M%S\")\n",
    "#filename = f\"image_{timestamp}.png\"\n",
    "#plot_py=str(plot_code(result1))\n",
    "#plot_py=plot_py.replace('```','').replace('python','')\n",
    "#exec(plot_py)\n",
    "#plt.savefig(filename)\n",
    "#image_path=f'{filename}'\n"
   ]
  },
  {
   "cell_type": "code",
   "execution_count": null,
   "id": "f270c6ff-3041-46f3-903c-7ee03448d844",
   "metadata": {},
   "outputs": [
    {
     "name": "stdout",
     "output_type": "stream",
     "text": [
      "\n",
      "import pandas as pd\n",
      "import matplotlib.pyplot as plt\n",
      "\n",
      "df = pd.DataFrame({\n",
      "    'business_month': ['202302', '202302', '202304', '202305', '202306'],\n",
      "    'region_name': ['SAN FRANCISCO', 'CHICAGO', 'PORTLAND', 'CHICAGO', 'EASTERN'],\n",
      "    'series_name': ['TACOMA', 'RAV4', 'HIGHLANDER', 'HIGHLANDER', 'COROLLA'],\n",
      "    'overall_acceptance': [1.00, 1.00, 1.00, 1.00, 0.75]\n",
      "})\n",
      "\n",
      "plt.bar(df['region_name'], df['overall_acceptance'])\n",
      "plt.xlabel('Region Name')\n",
      "plt.ylabel('Overall Acceptance')\n",
      "plt.title('Overall Acceptance by Region')\n",
      "plt.show()\n",
      "\n"
     ]
    }
   ],
   "source": [
    "print(plot_py)"
   ]
  },
  {
   "cell_type": "code",
   "execution_count": null,
   "id": "b7ef73d6-2869-460a-ba3a-2dd1372e178f",
   "metadata": {},
   "outputs": [],
   "source": [
    "#print(plot_py)\n",
    "#with open('./plot_file.py','w+') as f:\n",
    "#    f.write(str(plot_py))"
   ]
  },
  {
   "cell_type": "code",
   "execution_count": null,
   "id": "697b4d3c-b1ab-445e-8326-981bacc2273e",
   "metadata": {},
   "outputs": [],
   "source": [
    "#with open(\"plot_file.py\") as f: exec(f.read())"
   ]
  },
  {
   "cell_type": "code",
   "execution_count": null,
   "id": "80dbca2e-72d1-49ed-95c9-6dc6282b43c7",
   "metadata": {},
   "outputs": [],
   "source": [
    "#exec(open('plot_file.py').read())"
   ]
  },
  {
   "cell_type": "code",
   "execution_count": null,
   "id": "226e07db-a4f8-467c-8496-5f807e3b97a2",
   "metadata": {},
   "outputs": [],
   "source": [
    "#import matplotlib.pyplot as plt\n",
    "\n",
    "result = pd.DataFrame({'overall_acceptance': [0.115265, 0.172757, 0.123494, 0.106509, 0.159091, 0.144231], 'business_month': [202301, 202302, 202303, 202304, 202305, 202306]})\n",
    "\n",
    "plt.plot(result['business_month'], result['overall_acceptance'])\n",
    "plt.title('Acceptance rate for Region 110')\n",
    "plt.xlabel('Business Month')\n",
    "plt.ylabel('Overall Acceptance')\n",
    "plt.show()"
   ]
  },
  {
   "cell_type": "code",
   "execution_count": null,
   "id": "027479b3-6f43-4ea7-b727-3498867aa08f",
   "metadata": {},
   "outputs": [],
   "source": [
    "data = result\n",
    "\n",
    "# Create a plot\n",
    "plt.plot(data['business_month'], data['overall_acceptance'])\n",
    "\n",
    "# Add a title\n",
    "plt.title('Acceptance rate for Region 110')\n",
    "\n",
    "# Add labels to the axes\n",
    "plt.xlabel('Business month')\n",
    "plt.ylabel('Overall acceptance')\n",
    "# Show the plot\n",
    "plt.show()"
   ]
  },
  {
   "cell_type": "code",
   "execution_count": null,
   "id": "a29ddd21-ab3f-4a6b-98a1-eb1dd2f52c12",
   "metadata": {},
   "outputs": [],
   "source": [
    "\n",
    "#ax = plt.gca()\n",
    "\n",
    "#result.plot(kind='line',\n",
    "#        x='business_month',\n",
    "#        y='overall_acceptance',\n",
    "#        color='green', ax=ax)\n",
    "#ax.set_xlabel(\"Business Months\")\n",
    "#ax.set_ylabel(\"Overall Acceptance Rate\")\n",
    "#plt.show()\n"
   ]
  },
  {
   "cell_type": "code",
   "execution_count": null,
   "id": "9eec0be7-951c-4e06-afdc-99f8b2e2a9c6",
   "metadata": {},
   "outputs": [],
   "source": [
    "#from langchain.document_loaders.csv_loader import CSVLoader\n",
    "\n",
    "\n",
    "#loader = CSVLoader(file_path='TMNA_New_Data_12_july.csv')\n",
    "#data = loader.load()\n"
   ]
  },
  {
   "cell_type": "code",
   "execution_count": null,
   "id": "48c6d86a-4351-4972-987a-8e863cfd2eab",
   "metadata": {},
   "outputs": [],
   "source": [
    "#type(data)"
   ]
  },
  {
   "cell_type": "code",
   "execution_count": null,
   "id": "360d246f-fc16-4a80-8a39-1397b5fa8d44",
   "metadata": {},
   "outputs": [],
   "source": [
    "#from langchain.text_splitter import RecursiveCharacterTextSplitter"
   ]
  },
  {
   "cell_type": "code",
   "execution_count": null,
   "id": "9d05159f-3d78-4abc-944e-4e519998d493",
   "metadata": {},
   "outputs": [],
   "source": [
    "#from langchain.document_loaders import TextLoader\n",
    "\n",
    "#loader = TextLoader('TMNA_New_Data_12_july.csv')\n",
    "#document=loader.load()"
   ]
  },
  {
   "cell_type": "code",
   "execution_count": null,
   "id": "649a5d29-40b6-4f3b-b51e-c5dca5d1a69a",
   "metadata": {},
   "outputs": [],
   "source": [
    "text_splitter = RecursiveCharacterTextSplitter(\n",
    "    # Set a really small chunk size, just to show.\n",
    "    chunk_size = 1000,\n",
    "    chunk_overlap  = 20,\n",
    "    length_function = len,\n",
    "    add_start_index = True,\n",
    ")"
   ]
  },
  {
   "cell_type": "code",
   "execution_count": null,
   "id": "84706a4a-ed31-406e-b088-a695b09e1bd9",
   "metadata": {},
   "outputs": [],
   "source": [
    "document = text_splitter.split_documents(document)"
   ]
  },
  {
   "cell_type": "code",
   "execution_count": null,
   "id": "9f11f48d-fa11-4578-92e1-5ee14bf1c9c4",
   "metadata": {},
   "outputs": [],
   "source": [
    "from langchain.embeddings.vertexai import VertexAIEmbeddings\n",
    "from langchain.vectorstores import FAISS"
   ]
  },
  {
   "cell_type": "code",
   "execution_count": null,
   "id": "4227cb6c-2712-4035-b16e-b680b39059a5",
   "metadata": {},
   "outputs": [],
   "source": [
    "embeddings = VertexAIEmbeddings()\n",
    "db = FAISS.from_documents(document, embeddings)"
   ]
  },
  {
   "cell_type": "code",
   "execution_count": null,
   "id": "3d7413fa-d44d-4eea-b556-a009858fb18c",
   "metadata": {},
   "outputs": [],
   "source": []
  }
 ],
 "metadata": {
  "kernelspec": {
   "display_name": "Python 3 (ipykernel)",
   "language": "python",
   "name": "python3"
  },
  "language_info": {
   "codemirror_mode": {
    "name": "ipython",
    "version": 3
   },
   "file_extension": ".py",
   "mimetype": "text/x-python",
   "name": "python",
   "nbconvert_exporter": "python",
   "pygments_lexer": "ipython3",
   "version": "3.11.4"
  }
 },
 "nbformat": 4,
 "nbformat_minor": 5
}
